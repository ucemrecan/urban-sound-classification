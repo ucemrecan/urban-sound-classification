{
 "cells": [
  {
   "cell_type": "markdown",
   "id": "640af34d",
   "metadata": {},
   "source": [
    "### 3. Model Preparation and Training"
   ]
  },
  {
   "cell_type": "code",
   "execution_count": 56,
   "id": "cb69d310",
   "metadata": {},
   "outputs": [],
   "source": [
    "# Import packages\n",
    "\n",
    "import tensorflow as tf\n",
    "import numpy as np \n",
    "import matplotlib.pyplot as plt\n",
    "import pickle"
   ]
  },
  {
   "cell_type": "code",
   "execution_count": 57,
   "id": "063e3a36",
   "metadata": {},
   "outputs": [],
   "source": [
    "# Read datasets with pickle\n",
    "\n",
    "with open(r'C:\\Users\\pc\\Desktop\\datasets\\X_train.pkl', 'rb') as f:\n",
    "    X_train = pickle.load(f)  \n",
    "    \n",
    "with open(r'C:\\Users\\pc\\Desktop\\datasets\\y_train.pkl', 'rb') as f:\n",
    "    y_train = pickle.load(f)    \n",
    "    \n",
    "with open(r'C:\\Users\\pc\\Desktop\\datasets\\X_val.pkl', 'rb') as f:\n",
    "    X_val = pickle.load(f)    \n",
    "    \n",
    "with open(r'C:\\Users\\pc\\Desktop\\datasets\\y_val.pkl', 'rb') as f:\n",
    "    y_val = pickle.load(f)    \n",
    "    \n",
    "with open(r'C:\\Users\\pc\\Desktop\\datasets\\X_test.pkl', 'rb') as f:\n",
    "    X_test = pickle.load(f)    \n",
    "    \n",
    "with open(r'C:\\Users\\pc\\Desktop\\datasets\\y_test.pkl', 'rb') as f:\n",
    "    y_test = pickle.load(f)    "
   ]
  },
  {
   "cell_type": "code",
   "execution_count": 58,
   "id": "42598140",
   "metadata": {},
   "outputs": [
    {
     "name": "stdout",
     "output_type": "stream",
     "text": [
      "X_train: 6980\n",
      "y_train: 6980\n",
      "X_val: 876\n",
      "y_val: 876\n",
      "X_test: 876\n",
      "y_test: 876\n"
     ]
    }
   ],
   "source": [
    "# The number of samples\n",
    "\n",
    "print(f\"X_train: {len(X_train)}\")\n",
    "print(f\"y_train: {len(y_train)}\")\n",
    "print(f\"X_val: {len(X_val)}\")\n",
    "print(f\"y_val: {len(y_val)}\")\n",
    "print(f\"X_test: {len(X_test)}\")\n",
    "print(f\"y_test: {len(y_test)}\")"
   ]
  },
  {
   "cell_type": "markdown",
   "id": "85b010e1",
   "metadata": {},
   "source": [
    "##### 3.1 CNN Model "
   ]
  },
  {
   "cell_type": "code",
   "execution_count": 59,
   "id": "617716af",
   "metadata": {},
   "outputs": [],
   "source": [
    "# Creating a model object\n",
    "\n",
    "model = tf.keras.Sequential()"
   ]
  },
  {
   "cell_type": "code",
   "execution_count": 123,
   "id": "996da1c3",
   "metadata": {},
   "outputs": [
    {
     "data": {
      "text/plain": [
       "(64, 64)"
      ]
     },
     "execution_count": 123,
     "metadata": {},
     "output_type": "execute_result"
    }
   ],
   "source": [
    "X_train[0].shape"
   ]
  },
  {
   "cell_type": "code",
   "execution_count": 110,
   "id": "5ed17e30",
   "metadata": {},
   "outputs": [],
   "source": [
    "# Convolution and max pooling layers\n",
    "\n",
    "# First conv block \n",
    "model.add(tf.keras.layers.Conv2D(64,\n",
    "                                 kernel_size=(3,3),\n",
    "                                 strides=(1,1),\n",
    "                                 padding=\"same\",\n",
    "                                 activation=\"relu\", # Activation Func = ReLU\n",
    "                                 input_shape=(64,64,1))) \n",
    "\n",
    "model.add(tf.keras.layers.MaxPooling2D((2,2))) # Pooling\n",
    "\n",
    "# Second conv block\n",
    "model.add(tf.keras.layers.Conv2D(128,\n",
    "                                 kernel_size=(3,3),\n",
    "                                 strides=(1,1),\n",
    "                                 padding=\"same\",\n",
    "                                 activation=\"relu\"))\n",
    "model.add(tf.keras.layers.MaxPooling2D((2,2)))\n",
    "\n",
    "# Third conv block\n",
    "model.add(tf.keras.layers.Conv2D(128,\n",
    "                                 kernel_size=(3,3),\n",
    "                                 strides=(1,1),\n",
    "                                 padding=\"same\",\n",
    "                                 activation=\"relu\"))\n",
    "model.add(tf.keras.layers.MaxPooling2D((2,2)))\n",
    "\n",
    "# Last conv block\n",
    "model.add(tf.keras.layers.Conv2D(128,\n",
    "                                 kernel_size=(3,3),\n",
    "                                 strides=(1,1),\n",
    "                                 padding=\"same\",\n",
    "                                 activation=\"relu\"))"
   ]
  },
  {
   "cell_type": "code",
   "execution_count": 111,
   "id": "49abcc8c",
   "metadata": {},
   "outputs": [],
   "source": [
    "# Flatten layer\n",
    "\n",
    "model.add(tf.keras.layers.Flatten())"
   ]
  },
  {
   "cell_type": "code",
   "execution_count": 112,
   "id": "a964a1bf",
   "metadata": {},
   "outputs": [],
   "source": [
    "# Classification Layers\n",
    "# nodes choiced 128, dropout: 0.7, activation function = ReLU\n",
    "\n",
    "# Dense and Dropout Layer\n",
    "model.add(tf.keras.layers.Dense(128, activation=\"relu\"))\n",
    "model.add(tf.keras.layers.Dropout(0.7))\n",
    "\n",
    "# Dense and Dropout Layer\n",
    "model.add(tf.keras.layers.Dense(128, activation=\"relu\"))\n",
    "model.add(tf.keras.layers.Dropout(0.7))"
   ]
  },
  {
   "cell_type": "code",
   "execution_count": 113,
   "id": "05cc8d2a",
   "metadata": {},
   "outputs": [],
   "source": [
    "# Output Layer\n",
    "\n",
    "# We have 10 classification \n",
    "# and because of output layer our activation func. is softmax\n",
    "\n",
    "model.add(tf.keras.layers.Dense(10, activation=\"softmax\"))"
   ]
  },
  {
   "cell_type": "code",
   "execution_count": 114,
   "id": "23ab8862",
   "metadata": {},
   "outputs": [],
   "source": [
    "# Optimizer\n",
    "\n",
    "# we use sparse_categorical_crossentropy as there are multiple categories\n",
    "\n",
    "model.compile(optimizer=\"adam\",\n",
    "              loss=\"sparse_categorical_crossentropy\",\n",
    "              metrics=[\"accuracy\"])"
   ]
  },
  {
   "cell_type": "markdown",
   "id": "b18700d4",
   "metadata": {},
   "source": [
    "##### 3.2 Training the model"
   ]
  },
  {
   "cell_type": "code",
   "execution_count": 115,
   "id": "1ab85ca8",
   "metadata": {},
   "outputs": [
    {
     "name": "stdout",
     "output_type": "stream",
     "text": [
      "Epoch 1/20\n",
      "110/110 [==============================] - 62s 556ms/step - loss: 2.1814 - accuracy: 0.1731 - val_loss: 1.9055 - val_accuracy: 0.2911\n",
      "Epoch 2/20\n",
      "110/110 [==============================] - 59s 537ms/step - loss: 1.9232 - accuracy: 0.2789 - val_loss: 1.7154 - val_accuracy: 0.3333\n",
      "Epoch 3/20\n",
      "110/110 [==============================] - 54s 492ms/step - loss: 1.7109 - accuracy: 0.3662 - val_loss: 1.3787 - val_accuracy: 0.5628\n",
      "Epoch 4/20\n",
      "110/110 [==============================] - 54s 492ms/step - loss: 1.4958 - accuracy: 0.4613 - val_loss: 1.1502 - val_accuracy: 0.5993\n",
      "Epoch 5/20\n",
      "110/110 [==============================] - 55s 498ms/step - loss: 1.3310 - accuracy: 0.5173 - val_loss: 0.9829 - val_accuracy: 0.6929\n",
      "Epoch 6/20\n",
      "110/110 [==============================] - 55s 496ms/step - loss: 1.2126 - accuracy: 0.5802 - val_loss: 0.9078 - val_accuracy: 0.7021\n",
      "Epoch 7/20\n",
      "110/110 [==============================] - 56s 505ms/step - loss: 1.0833 - accuracy: 0.6287 - val_loss: 0.7712 - val_accuracy: 0.7831\n",
      "Epoch 8/20\n",
      "110/110 [==============================] - 54s 491ms/step - loss: 0.9875 - accuracy: 0.6679 - val_loss: 0.7229 - val_accuracy: 0.7820\n",
      "Epoch 9/20\n",
      "110/110 [==============================] - 54s 495ms/step - loss: 0.8926 - accuracy: 0.7057 - val_loss: 0.5856 - val_accuracy: 0.8253\n",
      "Epoch 10/20\n",
      "110/110 [==============================] - 57s 518ms/step - loss: 0.8018 - accuracy: 0.7418 - val_loss: 0.5447 - val_accuracy: 0.8368\n",
      "Epoch 11/20\n",
      "110/110 [==============================] - 55s 496ms/step - loss: 0.7197 - accuracy: 0.7593 - val_loss: 0.5552 - val_accuracy: 0.8151\n",
      "Epoch 12/20\n",
      "110/110 [==============================] - 55s 496ms/step - loss: 0.6714 - accuracy: 0.7814 - val_loss: 0.4772 - val_accuracy: 0.8470\n",
      "Epoch 13/20\n",
      "110/110 [==============================] - 54s 494ms/step - loss: 0.6139 - accuracy: 0.8033 - val_loss: 0.4637 - val_accuracy: 0.8642\n",
      "Epoch 14/20\n",
      "110/110 [==============================] - 55s 498ms/step - loss: 0.5980 - accuracy: 0.8136 - val_loss: 0.4316 - val_accuracy: 0.8687\n",
      "Epoch 15/20\n",
      "110/110 [==============================] - 56s 513ms/step - loss: 0.5627 - accuracy: 0.8205 - val_loss: 0.4193 - val_accuracy: 0.8664\n",
      "Epoch 16/20\n",
      "110/110 [==============================] - 54s 493ms/step - loss: 0.4972 - accuracy: 0.8381 - val_loss: 0.3743 - val_accuracy: 0.8938\n",
      "Epoch 17/20\n",
      "110/110 [==============================] - 57s 515ms/step - loss: 0.4882 - accuracy: 0.8400 - val_loss: 0.3850 - val_accuracy: 0.8950\n",
      "Epoch 18/20\n",
      "110/110 [==============================] - 59s 533ms/step - loss: 0.4608 - accuracy: 0.8529 - val_loss: 0.4209 - val_accuracy: 0.8721\n",
      "Epoch 19/20\n",
      "110/110 [==============================] - 63s 567ms/step - loss: 0.4888 - accuracy: 0.8476 - val_loss: 0.3998 - val_accuracy: 0.8904\n",
      "Epoch 20/20\n",
      "110/110 [==============================] - 48s 436ms/step - loss: 0.3929 - accuracy: 0.8771 - val_loss: 0.4330 - val_accuracy: 0.8813\n"
     ]
    }
   ],
   "source": [
    "# Train the model for 20 epochs with batch size of 64\n",
    "\n",
    "results = model.fit(X_train, y_train,\n",
    "                    batch_size=64,\n",
    "                    epochs=20,\n",
    "                    validation_data=(X_val, y_val))"
   ]
  },
  {
   "cell_type": "markdown",
   "id": "d8c9cf28",
   "metadata": {},
   "source": [
    "##### 3.3 Visualize the results "
   ]
  },
  {
   "cell_type": "code",
   "execution_count": 116,
   "id": "1f66c7ae",
   "metadata": {},
   "outputs": [
    {
     "data": {
      "image/png": "[encoded data removed]",
      "text/plain": [
       "<Figure size 432x288 with 1 Axes>"
      ]
     },
     "metadata": {
      "needs_background": "light"
     },
     "output_type": "display_data"
    }
   ],
   "source": [
    "# Plot the the training loss\n",
    "plt.plot(results.history[\"loss\"], label=\"loss\")\n",
    "\n",
    "# Plot the the validation loss\n",
    "plt.plot(results.history[\"val_loss\"], label=\"val_loss\")\n",
    "\n",
    "# Name the x and y axises\n",
    "plt.xlabel(\"Epoch\")\n",
    "plt.ylabel(\"Loss\")\n",
    "\n",
    "# Put legend table\n",
    "plt.legend()\n",
    "\n",
    "# Show the plot\n",
    "plt.show()"
   ]
  },
  {
   "cell_type": "code",
   "execution_count": 117,
   "id": "0320da33",
   "metadata": {},
   "outputs": [
    {
     "data": {
      "image/png": "[encoded data removed]",
      "text/plain": [
       "<Figure size 432x288 with 1 Axes>"
      ]
     },
     "metadata": {
      "needs_background": "light"
     },
     "output_type": "display_data"
    }
   ],
   "source": [
    "# Plot the the training accuracy\n",
    "plt.plot(results.history[\"accuracy\"], label=\"accuracy\")\n",
    "\n",
    "# Plot the the validation accuracy\n",
    "plt.plot(results.history[\"val_accuracy\"], label=\"val_accuracy\")\n",
    "\n",
    "# Name the x and y axises\n",
    "plt.xlabel(\"Epoch\")\n",
    "plt.ylabel(\"Accuracy\")\n",
    "\n",
    "# Put legend table\n",
    "plt.legend()\n",
    "\n",
    "# Show the plot\n",
    "plt.show()"
   ]
  },
  {
   "cell_type": "code",
   "execution_count": 118,
   "id": "3215ca2c",
   "metadata": {},
   "outputs": [
    {
     "name": "stdout",
     "output_type": "stream",
     "text": [
      "28/28 [==============================] - 2s 54ms/step - loss: 0.4307 - accuracy: 0.8687\n"
     ]
    },
    {
     "data": {
      "text/plain": [
       "[0.43070679903030396, 0.8687214851379395]"
      ]
     },
     "execution_count": 118,
     "metadata": {},
     "output_type": "execute_result"
    }
   ],
   "source": [
    "# Performance evaluation\n",
    "\n",
    "model.evaluate(X_test, y_test)"
   ]
  },
  {
   "cell_type": "code",
   "execution_count": 75,
   "id": "2e1276c3",
   "metadata": {},
   "outputs": [
    {
     "name": "stdout",
     "output_type": "stream",
     "text": [
      "1/1 [==============================] - 0s 165ms/step\n",
      "[[7.2671552e-16 4.8644020e-17 9.9999750e-01 2.5584920e-06 2.3319288e-16\n",
      "  1.2861884e-12 2.9813065e-17 8.1185395e-18 2.0462436e-13 4.4421838e-10]]\n"
     ]
    }
   ],
   "source": [
    "# Prediction\n",
    "\n",
    "prediction_result = model.predict(X_test[433].reshape(1,64,64,1))\n",
    "\n",
    "print(prediction_result)"
   ]
  },
  {
   "cell_type": "code",
   "execution_count": 76,
   "id": "049b5509",
   "metadata": {},
   "outputs": [],
   "source": [
    "# Find the predicted class\n",
    "predicted_class = prediction_result.argmax()\n",
    "# Find the prediction probability\n",
    "predicted_probability = prediction_result.max()"
   ]
  },
  {
   "cell_type": "code",
   "execution_count": 77,
   "id": "f4b625eb",
   "metadata": {},
   "outputs": [
    {
     "name": "stdout",
     "output_type": "stream",
     "text": [
      "Predicted class: 2\n",
      "Predicted probability: 0.9999974966049194\n"
     ]
    }
   ],
   "source": [
    "# Print the results\n",
    "print(f\"Predicted class: {predicted_class}\")\n",
    "print(f\"Predicted probability: {predicted_probability}\")"
   ]
  },
  {
   "cell_type": "markdown",
   "id": "3fb56258",
   "metadata": {},
   "source": [
    "### 3.4 Hyperparameter Optimization"
   ]
  },
  {
   "cell_type": "markdown",
   "id": "9e335bb2",
   "metadata": {},
   "source": [
    "After a large number of training, the three best models are presented. <br>\n",
    "<br>\n",
    "<strong> [loss,accuracy] </strong> <br>\n",
    "<br>\n",
    "Model 1:<br>\n",
    "[0.43070679903030396, 0.8687214851379395] <br>\n",
    "<br>\n",
    "Model 2:<br>\n",
    "[0.3628617525100708, 0.8926940560340881] <br>\n",
    "<br>\n",
    "Model 3:<br>\n",
    "[0.43551167845726013, 0.8801369667053223] <br>"
   ]
  },
  {
   "cell_type": "markdown",
   "id": "ab2b63d6",
   "metadata": {},
   "source": [
    "##### 3.4.1 Model 2"
   ]
  },
  {
   "cell_type": "code",
   "execution_count": 22,
   "id": "e8fc236c",
   "metadata": {},
   "outputs": [],
   "source": [
    "# Convolution and max pooling layers\n",
    "# kernel_size selected (4,4)\n",
    "\n",
    "# First conv block \n",
    "model.add(tf.keras.layers.Conv2D(64,\n",
    "                                 kernel_size=(4,4),\n",
    "                                 strides=(1,1),\n",
    "                                 padding=\"same\",\n",
    "                                 activation=\"relu\", # Activation Func = ReLU\n",
    "                                 input_shape=(64,64,1))) \n",
    "\n",
    "model.add(tf.keras.layers.MaxPooling2D((2,2))) # Pooling\n",
    "\n",
    "# Second conv block \n",
    "model.add(tf.keras.layers.Conv2D(128,\n",
    "                                 kernel_size=(4,4),\n",
    "                                 strides=(1,1),\n",
    "                                 padding=\"same\",\n",
    "                                 activation=\"relu\"))\n",
    "model.add(tf.keras.layers.MaxPooling2D((2,2)))\n",
    "\n",
    "# Third conv block \n",
    "model.add(tf.keras.layers.Conv2D(128,\n",
    "                                 kernel_size=(4,4),\n",
    "                                 strides=(1,1),\n",
    "                                 padding=\"same\",\n",
    "                                 activation=\"relu\"))\n",
    "model.add(tf.keras.layers.MaxPooling2D((2,2)))\n",
    "\n",
    "# Last conv block\n",
    "model.add(tf.keras.layers.Conv2D(128,\n",
    "                                 kernel_size=(4,4),\n",
    "                                 strides=(1,1),\n",
    "                                 padding=\"same\",\n",
    "                                 activation=\"relu\"))"
   ]
  },
  {
   "cell_type": "code",
   "execution_count": 23,
   "id": "a05caf48",
   "metadata": {},
   "outputs": [],
   "source": [
    "# Flatten layer\n",
    "\n",
    "model.add(tf.keras.layers.Flatten())"
   ]
  },
  {
   "cell_type": "code",
   "execution_count": 24,
   "id": "1d685fe3",
   "metadata": {},
   "outputs": [],
   "source": [
    "# Classification Layers\n",
    "# nodes choiced 128, dropout: 0.7, activation function = ReLU\n",
    "\n",
    "# Dense and Dropout Layer\n",
    "model.add(tf.keras.layers.Dense(128, activation=\"relu\"))\n",
    "model.add(tf.keras.layers.Dropout(0.7))\n",
    "\n",
    "# Dense and Dropout Layer\n",
    "model.add(tf.keras.layers.Dense(128, activation=\"relu\"))\n",
    "model.add(tf.keras.layers.Dropout(0.7))"
   ]
  },
  {
   "cell_type": "code",
   "execution_count": 25,
   "id": "df6ee5d9",
   "metadata": {},
   "outputs": [],
   "source": [
    "# Output Layer\n",
    "\n",
    "# We have 10 classification \n",
    "# and because of output layer our activation func. is softmax\n",
    "\n",
    "model.add(tf.keras.layers.Dense(10, activation=\"softmax\"))"
   ]
  },
  {
   "cell_type": "code",
   "execution_count": 26,
   "id": "cc673efc",
   "metadata": {},
   "outputs": [],
   "source": [
    "# Optimizer\n",
    "\n",
    "# we use sparse_categorical_crossentropy as there are multiple categories\n",
    "\n",
    "model.compile(optimizer=\"adam\",\n",
    "              loss=\"sparse_categorical_crossentropy\",\n",
    "              metrics=[\"accuracy\"])"
   ]
  },
  {
   "cell_type": "code",
   "execution_count": 27,
   "id": "b9cf163d",
   "metadata": {},
   "outputs": [
    {
     "name": "stdout",
     "output_type": "stream",
     "text": [
      "Epoch 1/20\n",
      "110/110 [==============================] - 98s 886ms/step - loss: 2.2122 - accuracy: 0.1649 - val_loss: 1.9021 - val_accuracy: 0.2637\n",
      "Epoch 2/20\n",
      "110/110 [==============================] - 91s 824ms/step - loss: 1.9392 - accuracy: 0.2795 - val_loss: 1.6505 - val_accuracy: 0.4623\n",
      "Epoch 3/20\n",
      "110/110 [==============================] - 82s 743ms/step - loss: 1.6744 - accuracy: 0.3821 - val_loss: 1.1855 - val_accuracy: 0.5696\n",
      "Epoch 4/20\n",
      "110/110 [==============================] - 82s 745ms/step - loss: 1.4264 - accuracy: 0.4842 - val_loss: 0.9909 - val_accuracy: 0.6838\n",
      "Epoch 5/20\n",
      "110/110 [==============================] - 82s 743ms/step - loss: 1.2300 - accuracy: 0.5546 - val_loss: 0.8316 - val_accuracy: 0.7443\n",
      "Epoch 6/20\n",
      "110/110 [==============================] - 81s 739ms/step - loss: 1.1042 - accuracy: 0.6085 - val_loss: 0.8143 - val_accuracy: 0.7534\n",
      "Epoch 7/20\n",
      "110/110 [==============================] - 81s 736ms/step - loss: 0.9828 - accuracy: 0.6527 - val_loss: 0.7152 - val_accuracy: 0.7888\n",
      "Epoch 8/20\n",
      "110/110 [==============================] - 81s 736ms/step - loss: 0.9004 - accuracy: 0.6894 - val_loss: 0.6800 - val_accuracy: 0.8025\n",
      "Epoch 9/20\n",
      "110/110 [==============================] - 81s 735ms/step - loss: 0.7663 - accuracy: 0.7308 - val_loss: 0.5336 - val_accuracy: 0.8162\n",
      "Epoch 10/20\n",
      "110/110 [==============================] - 82s 742ms/step - loss: 0.6822 - accuracy: 0.7609 - val_loss: 0.4926 - val_accuracy: 0.8642\n",
      "Epoch 11/20\n",
      "110/110 [==============================] - 81s 741ms/step - loss: 0.6448 - accuracy: 0.7815 - val_loss: 0.5230 - val_accuracy: 0.8402\n",
      "Epoch 12/20\n",
      "110/110 [==============================] - 81s 739ms/step - loss: 0.5956 - accuracy: 0.8069 - val_loss: 0.3912 - val_accuracy: 0.8801\n",
      "Epoch 13/20\n",
      "110/110 [==============================] - 82s 743ms/step - loss: 0.5687 - accuracy: 0.8160 - val_loss: 0.5182 - val_accuracy: 0.8642\n",
      "Epoch 14/20\n",
      "110/110 [==============================] - 81s 739ms/step - loss: 0.5481 - accuracy: 0.8249 - val_loss: 0.3834 - val_accuracy: 0.8721\n",
      "Epoch 15/20\n",
      "110/110 [==============================] - 81s 740ms/step - loss: 0.4702 - accuracy: 0.8509 - val_loss: 0.4004 - val_accuracy: 0.8790\n",
      "Epoch 16/20\n",
      "110/110 [==============================] - 81s 738ms/step - loss: 0.4162 - accuracy: 0.8685 - val_loss: 0.4381 - val_accuracy: 0.8813\n",
      "Epoch 17/20\n",
      "110/110 [==============================] - 81s 738ms/step - loss: 0.3633 - accuracy: 0.8861 - val_loss: 0.3301 - val_accuracy: 0.8984\n",
      "Epoch 18/20\n",
      "110/110 [==============================] - 82s 747ms/step - loss: 0.3325 - accuracy: 0.8941 - val_loss: 0.4133 - val_accuracy: 0.8881\n",
      "Epoch 19/20\n",
      "110/110 [==============================] - 81s 737ms/step - loss: 0.3640 - accuracy: 0.8871 - val_loss: 0.3706 - val_accuracy: 0.8995\n",
      "Epoch 20/20\n",
      "110/110 [==============================] - 81s 737ms/step - loss: 0.3206 - accuracy: 0.8989 - val_loss: 0.3584 - val_accuracy: 0.8870\n"
     ]
    }
   ],
   "source": [
    "# Train the model for 20 epochs with batch size of 64\n",
    "\n",
    "results = model.fit(X_train, y_train,\n",
    "                    batch_size=64,\n",
    "                    epochs=20,\n",
    "                    validation_data=(X_val, y_val))"
   ]
  },
  {
   "cell_type": "code",
   "execution_count": 28,
   "id": "252c4463",
   "metadata": {},
   "outputs": [
    {
     "data": {
      "image/png": "[encoded data removed]",
      "text/plain": [
       "<Figure size 432x288 with 1 Axes>"
      ]
     },
     "metadata": {
      "needs_background": "light"
     },
     "output_type": "display_data"
    }
   ],
   "source": [
    "# Plot the the training loss\n",
    "plt.plot(results.history[\"loss\"], label=\"loss\")\n",
    "\n",
    "# Plot the the validation loss\n",
    "plt.plot(results.history[\"val_loss\"], label=\"val_loss\")\n",
    "\n",
    "# Name the x and y axises\n",
    "plt.xlabel(\"Epoch\")\n",
    "plt.ylabel(\"Loss\")\n",
    "\n",
    "# Put legend table\n",
    "plt.legend()\n",
    "\n",
    "# Show the plot\n",
    "plt.show()"
   ]
  },
  {
   "cell_type": "code",
   "execution_count": 29,
   "id": "d18c9d0a",
   "metadata": {},
   "outputs": [
    {
     "data": {
      "image/png": "[encoded data removed]",
      "text/plain": [
       "<Figure size 432x288 with 1 Axes>"
      ]
     },
     "metadata": {
      "needs_background": "light"
     },
     "output_type": "display_data"
    }
   ],
   "source": [
    "# Plot the the training accuracy\n",
    "plt.plot(results.history[\"accuracy\"], label=\"accuracy\")\n",
    "\n",
    "# Plot the the validation accuracy\n",
    "plt.plot(results.history[\"val_accuracy\"], label=\"val_accuracy\")\n",
    "\n",
    "# Name the x and y axises\n",
    "plt.xlabel(\"Epoch\")\n",
    "plt.ylabel(\"Accuracy\")\n",
    "\n",
    "# Put legend table\n",
    "plt.legend()\n",
    "\n",
    "# Show the plot\n",
    "plt.show()"
   ]
  },
  {
   "cell_type": "code",
   "execution_count": 30,
   "id": "75c1a143",
   "metadata": {},
   "outputs": [
    {
     "name": "stdout",
     "output_type": "stream",
     "text": [
      "28/28 [==============================] - 2s 88ms/step - loss: 0.3629 - accuracy: 0.8927\n"
     ]
    },
    {
     "data": {
      "text/plain": [
       "[0.3628617525100708, 0.8926940560340881]"
      ]
     },
     "execution_count": 30,
     "metadata": {},
     "output_type": "execute_result"
    }
   ],
   "source": [
    "# Performance evaluation\n",
    "\n",
    "model.evaluate(X_test, y_test)"
   ]
  },
  {
   "cell_type": "markdown",
   "id": "11289160",
   "metadata": {},
   "source": [
    "##### 3.4.2 Model 3"
   ]
  },
  {
   "cell_type": "code",
   "execution_count": 16,
   "id": "8049bedb",
   "metadata": {},
   "outputs": [],
   "source": [
    "# Convolution and max pooling layers\n",
    "# kernel_size selected 5,5\n",
    "\n",
    "# First conv block\n",
    "model.add(tf.keras.layers.Conv2D(64,\n",
    "                                 kernel_size=(5,5),\n",
    "                                 strides=(1,1),\n",
    "                                 padding=\"same\",\n",
    "                                 activation=\"relu\", # Activation Func = ReLU\n",
    "                                 input_shape=(64,64,1))) \n",
    "\n",
    "model.add(tf.keras.layers.MaxPooling2D((2,2))) # Pooling\n",
    "\n",
    "# Second conv block\n",
    "model.add(tf.keras.layers.Conv2D(128,\n",
    "                                 kernel_size=(5,5),\n",
    "                                 strides=(1,1),\n",
    "                                 padding=\"same\",\n",
    "                                 activation=\"relu\"))\n",
    "model.add(tf.keras.layers.MaxPooling2D((2,2)))\n",
    "\n",
    "# Third conv block\n",
    "model.add(tf.keras.layers.Conv2D(128,\n",
    "                                 kernel_size=(5,5),\n",
    "                                 strides=(1,1),\n",
    "                                 padding=\"same\",\n",
    "                                 activation=\"relu\"))\n",
    "model.add(tf.keras.layers.MaxPooling2D((2,2)))\n",
    "\n",
    "# Last conv block\n",
    "model.add(tf.keras.layers.Conv2D(128,\n",
    "                                 kernel_size=(5,5),\n",
    "                                 strides=(1,1),\n",
    "                                 padding=\"same\",\n",
    "                                 activation=\"relu\"))\n",
    "\n",
    "# Flatten layer\n",
    "\n",
    "model.add(tf.keras.layers.Flatten())\n",
    "\n",
    "# Classification Layers\n",
    "# nodes choiced 128, dropout: 0.7, activation function = ReLU\n",
    "\n",
    "# Dense and Dropout Layer\n",
    "model.add(tf.keras.layers.Dense(128, activation=\"relu\"))\n",
    "model.add(tf.keras.layers.Dropout(0.7))\n",
    "\n",
    "# Dense and Dropout Layer\n",
    "model.add(tf.keras.layers.Dense(128, activation=\"relu\"))\n",
    "model.add(tf.keras.layers.Dropout(0.7))"
   ]
  },
  {
   "cell_type": "code",
   "execution_count": 17,
   "id": "bb41f43c",
   "metadata": {},
   "outputs": [],
   "source": [
    "# Output Layer\n",
    "\n",
    "# We have 10 classification \n",
    "# and because of output layer our activation func. is softmax\n",
    "\n",
    "model.add(tf.keras.layers.Dense(10, activation=\"softmax\"))"
   ]
  },
  {
   "cell_type": "code",
   "execution_count": 18,
   "id": "c4dcc5c4",
   "metadata": {},
   "outputs": [],
   "source": [
    "# Optimizer\n",
    "\n",
    "# we use sparse_categorical_crossentropy as there are multiple categories\n",
    "\n",
    "model.compile(optimizer=\"adam\",\n",
    "              loss=\"sparse_categorical_crossentropy\",\n",
    "              metrics=[\"accuracy\"])"
   ]
  },
  {
   "cell_type": "code",
   "execution_count": 19,
   "id": "57ecf3e2",
   "metadata": {},
   "outputs": [
    {
     "name": "stdout",
     "output_type": "stream",
     "text": [
      "Epoch 1/15\n",
      "110/110 [==============================] - 123s 1s/step - loss: 2.2135 - accuracy: 0.1653 - val_loss: 1.9839 - val_accuracy: 0.3071\n",
      "Epoch 2/15\n",
      "110/110 [==============================] - 118s 1s/step - loss: 1.9706 - accuracy: 0.2734 - val_loss: 1.6342 - val_accuracy: 0.4452\n",
      "Epoch 3/15\n",
      "110/110 [==============================] - 121s 1s/step - loss: 1.6666 - accuracy: 0.3923 - val_loss: 1.4143 - val_accuracy: 0.5114\n",
      "Epoch 4/15\n",
      "110/110 [==============================] - 103s 933ms/step - loss: 1.4941 - accuracy: 0.4559 - val_loss: 1.1530 - val_accuracy: 0.6404\n",
      "Epoch 5/15\n",
      "110/110 [==============================] - 94s 857ms/step - loss: 1.2972 - accuracy: 0.5387 - val_loss: 0.9081 - val_accuracy: 0.7066\n",
      "Epoch 6/15\n",
      "110/110 [==============================] - 92s 833ms/step - loss: 1.1074 - accuracy: 0.6023 - val_loss: 0.8733 - val_accuracy: 0.7192\n",
      "Epoch 7/15\n",
      "110/110 [==============================] - 92s 835ms/step - loss: 0.9803 - accuracy: 0.6639 - val_loss: 0.6801 - val_accuracy: 0.7842\n",
      "Epoch 8/15\n",
      "110/110 [==============================] - 92s 833ms/step - loss: 0.8886 - accuracy: 0.6897 - val_loss: 0.6505 - val_accuracy: 0.8048\n",
      "Epoch 9/15\n",
      "110/110 [==============================] - 91s 826ms/step - loss: 0.7893 - accuracy: 0.7393 - val_loss: 0.7126 - val_accuracy: 0.8208\n",
      "Epoch 10/15\n",
      "110/110 [==============================] - 91s 828ms/step - loss: 0.7301 - accuracy: 0.7642 - val_loss: 0.5470 - val_accuracy: 0.8402\n",
      "Epoch 11/15\n",
      "110/110 [==============================] - 92s 833ms/step - loss: 0.6370 - accuracy: 0.7973 - val_loss: 0.5605 - val_accuracy: 0.8390\n",
      "Epoch 12/15\n",
      "110/110 [==============================] - 91s 832ms/step - loss: 0.5808 - accuracy: 0.8150 - val_loss: 0.4677 - val_accuracy: 0.8459\n",
      "Epoch 13/15\n",
      "110/110 [==============================] - 92s 833ms/step - loss: 0.5241 - accuracy: 0.8370 - val_loss: 0.4395 - val_accuracy: 0.8721\n",
      "Epoch 14/15\n",
      "110/110 [==============================] - 93s 848ms/step - loss: 0.4935 - accuracy: 0.8477 - val_loss: 0.4892 - val_accuracy: 0.8664\n",
      "Epoch 15/15\n",
      "110/110 [==============================] - 92s 834ms/step - loss: 0.4625 - accuracy: 0.8602 - val_loss: 0.4579 - val_accuracy: 0.8801\n"
     ]
    }
   ],
   "source": [
    "# Train the model for 15 epochs with batch size of 64\n",
    "\n",
    "results = model.fit(X_train, y_train,\n",
    "                    batch_size=64,\n",
    "                    epochs=15,\n",
    "                    validation_data=(X_val, y_val))"
   ]
  },
  {
   "cell_type": "code",
   "execution_count": 20,
   "id": "a2897a89",
   "metadata": {},
   "outputs": [
    {
     "data": {
      "image/png": "[encoded data removed]",
      "text/plain": [
       "<Figure size 432x288 with 1 Axes>"
      ]
     },
     "metadata": {
      "needs_background": "light"
     },
     "output_type": "display_data"
    }
   ],
   "source": [
    "# Plot the the training loss\n",
    "plt.plot(results.history[\"loss\"], label=\"loss\")\n",
    "\n",
    "# Plot the the validation loss\n",
    "plt.plot(results.history[\"val_loss\"], label=\"val_loss\")\n",
    "\n",
    "# Name the x and y axises\n",
    "plt.xlabel(\"Epoch\")\n",
    "plt.ylabel(\"Loss\")\n",
    "\n",
    "# Put legend table\n",
    "plt.legend()\n",
    "\n",
    "# Show the plot\n",
    "plt.show()"
   ]
  },
  {
   "cell_type": "code",
   "execution_count": 21,
   "id": "d33a5352",
   "metadata": {},
   "outputs": [
    {
     "data": {
      "image/png": "[encoded data removed]",
      "text/plain": [
       "<Figure size 432x288 with 1 Axes>"
      ]
     },
     "metadata": {
      "needs_background": "light"
     },
     "output_type": "display_data"
    }
   ],
   "source": [
    "# Plot the the training accuracy\n",
    "plt.plot(results.history[\"accuracy\"], label=\"accuracy\")\n",
    "\n",
    "# Plot the the validation accuracy\n",
    "plt.plot(results.history[\"val_accuracy\"], label=\"val_accuracy\")\n",
    "\n",
    "# Name the x and y axises\n",
    "plt.xlabel(\"Epoch\")\n",
    "plt.ylabel(\"Accuracy\")\n",
    "\n",
    "# Put legend table\n",
    "plt.legend()\n",
    "\n",
    "# Show the plot\n",
    "plt.show()"
   ]
  },
  {
   "cell_type": "code",
   "execution_count": 22,
   "id": "83ce3b8a",
   "metadata": {},
   "outputs": [
    {
     "name": "stdout",
     "output_type": "stream",
     "text": [
      "28/28 [==============================] - 2s 82ms/step - loss: 0.4072 - accuracy: 0.8813\n"
     ]
    },
    {
     "data": {
      "text/plain": [
       "[0.40723690390586853, 0.8812785148620605]"
      ]
     },
     "execution_count": 22,
     "metadata": {},
     "output_type": "execute_result"
    }
   ],
   "source": [
    "# Performance evaluation\n",
    "\n",
    "model.evaluate(X_test, y_test)"
   ]
  },
  {
   "cell_type": "code",
   "execution_count": 66,
   "id": "8328e561",
   "metadata": {},
   "outputs": [
    {
     "name": "stdout",
     "output_type": "stream",
     "text": [
      "28/28 [==============================] - 1s 30ms/step - loss: 0.4355 - accuracy: 0.8801\n"
     ]
    },
    {
     "data": {
      "text/plain": [
       "[0.43551167845726013, 0.8801369667053223]"
      ]
     },
     "execution_count": 66,
     "metadata": {},
     "output_type": "execute_result"
    }
   ],
   "source": [
    "# Performance evaluation\n",
    "\n",
    "model.evaluate(X_test, y_test)"
   ]
  }
 ],
 "metadata": {
  "kernelspec": {
   "display_name": "Python 3 (ipykernel)",
   "language": "python",
   "name": "python3"
  },
  "language_info": {
   "codemirror_mode": {
    "name": "ipython",
    "version": 3
   },
   "file_extension": ".py",
   "mimetype": "text/x-python",
   "name": "python",
   "nbconvert_exporter": "python",
   "pygments_lexer": "ipython3",
   "version": "3.9.12"
  }
 },
 "nbformat": 4,
 "nbformat_minor": 5
}
