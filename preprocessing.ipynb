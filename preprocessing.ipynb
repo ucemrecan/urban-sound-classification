{
 "cells": [
  {
   "cell_type": "markdown",
   "id": "ff5d234c",
   "metadata": {},
   "source": [
    "# Urban Sounds Classification"
   ]
  },
  {
   "cell_type": "code",
   "execution_count": 50,
   "id": "ebf9bb93",
   "metadata": {},
   "outputs": [],
   "source": [
    "# Dataset: https://urbansounddataset.weebly.com/urbansound8k.html"
   ]
  },
  {
   "cell_type": "markdown",
   "id": "36e28f0b",
   "metadata": {},
   "source": [
    "### 1. Spectrograms"
   ]
  },
  {
   "cell_type": "code",
   "execution_count": 1,
   "id": "6877c2b4",
   "metadata": {},
   "outputs": [],
   "source": [
    "# Spectrograms: https://drive.google.com/drive/folders/1xey3vAVNDjWxnSfhuUsf_5dGANZWmCog?usp=sharing"
   ]
  },
  {
   "cell_type": "markdown",
   "id": "70f060e1",
   "metadata": {},
   "source": [
    "### 2. Preprocessing"
   ]
  },
  {
   "cell_type": "code",
   "execution_count": 23,
   "id": "07b1e5fb",
   "metadata": {},
   "outputs": [],
   "source": [
    "# Packages\n",
    "\n",
    "import librosa\n",
    "import cv2\n",
    "import pandas as pd\n",
    "import numpy as np\n",
    "import matplotlib.pyplot as plt\n",
    "import os \n",
    "import librosa.display\n",
    "from PIL import Image\n",
    "import PIL\n",
    "import glob\n",
    "import random\n",
    "import seaborn as sns"
   ]
  },
  {
   "cell_type": "code",
   "execution_count": 24,
   "id": "19b98d05",
   "metadata": {},
   "outputs": [],
   "source": [
    "# Read the dataset file\n",
    "\n",
    "metadata_path = r\"C:\\Users\\pc\\Desktop\\UrbanSound8K\\metadata\\UrbanSound8K.csv\"\n",
    "metadata = pd.read_csv(metadata_path)\n",
    "df = metadata.copy()"
   ]
  },
  {
   "cell_type": "code",
   "execution_count": 25,
   "id": "7b7195e6",
   "metadata": {},
   "outputs": [
    {
     "name": "stdout",
     "output_type": "stream",
     "text": [
      "The shape of the dataset is:  (8732, 8)\n"
     ]
    }
   ],
   "source": [
    "#The shape of the data\n",
    "\n",
    "print(\"The shape of the dataset is: \", df.shape)"
   ]
  },
  {
   "cell_type": "code",
   "execution_count": 26,
   "id": "f77bb2d8",
   "metadata": {},
   "outputs": [
    {
     "data": {
      "text/html": [
       "<div>\n",
       "<style scoped>\n",
       "    .dataframe tbody tr th:only-of-type {\n",
       "        vertical-align: middle;\n",
       "    }\n",
       "\n",
       "    .dataframe tbody tr th {\n",
       "        vertical-align: top;\n",
       "    }\n",
       "\n",
       "    .dataframe thead th {\n",
       "        text-align: right;\n",
       "    }\n",
       "</style>\n",
       "<table border=\"1\" class=\"dataframe\">\n",
       "  <thead>\n",
       "    <tr style=\"text-align: right;\">\n",
       "      <th></th>\n",
       "      <th>slice_file_name</th>\n",
       "      <th>fsID</th>\n",
       "      <th>start</th>\n",
       "      <th>end</th>\n",
       "      <th>salience</th>\n",
       "      <th>fold</th>\n",
       "      <th>classID</th>\n",
       "      <th>class</th>\n",
       "    </tr>\n",
       "  </thead>\n",
       "  <tbody>\n",
       "    <tr>\n",
       "      <th>0</th>\n",
       "      <td>100032-3-0-0.wav</td>\n",
       "      <td>100032</td>\n",
       "      <td>0.0</td>\n",
       "      <td>0.317551</td>\n",
       "      <td>1</td>\n",
       "      <td>5</td>\n",
       "      <td>3</td>\n",
       "      <td>dog_bark</td>\n",
       "    </tr>\n",
       "    <tr>\n",
       "      <th>1</th>\n",
       "      <td>100263-2-0-117.wav</td>\n",
       "      <td>100263</td>\n",
       "      <td>58.5</td>\n",
       "      <td>62.500000</td>\n",
       "      <td>1</td>\n",
       "      <td>5</td>\n",
       "      <td>2</td>\n",
       "      <td>children_playing</td>\n",
       "    </tr>\n",
       "    <tr>\n",
       "      <th>2</th>\n",
       "      <td>100263-2-0-121.wav</td>\n",
       "      <td>100263</td>\n",
       "      <td>60.5</td>\n",
       "      <td>64.500000</td>\n",
       "      <td>1</td>\n",
       "      <td>5</td>\n",
       "      <td>2</td>\n",
       "      <td>children_playing</td>\n",
       "    </tr>\n",
       "    <tr>\n",
       "      <th>3</th>\n",
       "      <td>100263-2-0-126.wav</td>\n",
       "      <td>100263</td>\n",
       "      <td>63.0</td>\n",
       "      <td>67.000000</td>\n",
       "      <td>1</td>\n",
       "      <td>5</td>\n",
       "      <td>2</td>\n",
       "      <td>children_playing</td>\n",
       "    </tr>\n",
       "    <tr>\n",
       "      <th>4</th>\n",
       "      <td>100263-2-0-137.wav</td>\n",
       "      <td>100263</td>\n",
       "      <td>68.5</td>\n",
       "      <td>72.500000</td>\n",
       "      <td>1</td>\n",
       "      <td>5</td>\n",
       "      <td>2</td>\n",
       "      <td>children_playing</td>\n",
       "    </tr>\n",
       "  </tbody>\n",
       "</table>\n",
       "</div>"
      ],
      "text/plain": [
       "      slice_file_name    fsID  start        end  salience  fold  classID  \\\n",
       "0    100032-3-0-0.wav  100032    0.0   0.317551         1     5        3   \n",
       "1  100263-2-0-117.wav  100263   58.5  62.500000         1     5        2   \n",
       "2  100263-2-0-121.wav  100263   60.5  64.500000         1     5        2   \n",
       "3  100263-2-0-126.wav  100263   63.0  67.000000         1     5        2   \n",
       "4  100263-2-0-137.wav  100263   68.5  72.500000         1     5        2   \n",
       "\n",
       "              class  \n",
       "0          dog_bark  \n",
       "1  children_playing  \n",
       "2  children_playing  \n",
       "3  children_playing  \n",
       "4  children_playing  "
      ]
     },
     "execution_count": 26,
     "metadata": {},
     "output_type": "execute_result"
    }
   ],
   "source": [
    "# Displaying the first 5 rows of the data\n",
    "\n",
    "df.head()"
   ]
  },
  {
   "cell_type": "code",
   "execution_count": 27,
   "id": "d61244b1",
   "metadata": {},
   "outputs": [
    {
     "data": {
      "text/plain": [
       "slice_file_name    8732\n",
       "fsID               1297\n",
       "start              4878\n",
       "end                5020\n",
       "salience              2\n",
       "fold                 10\n",
       "classID              10\n",
       "class                10\n",
       "dtype: int64"
      ]
     },
     "execution_count": 27,
     "metadata": {},
     "output_type": "execute_result"
    }
   ],
   "source": [
    "#Number of unique values in each column\n",
    "\n",
    "df.nunique()"
   ]
  },
  {
   "cell_type": "code",
   "execution_count": 28,
   "id": "710cd9ae",
   "metadata": {},
   "outputs": [
    {
     "data": {
      "text/html": [
       "<div>\n",
       "<style scoped>\n",
       "    .dataframe tbody tr th:only-of-type {\n",
       "        vertical-align: middle;\n",
       "    }\n",
       "\n",
       "    .dataframe tbody tr th {\n",
       "        vertical-align: top;\n",
       "    }\n",
       "\n",
       "    .dataframe thead th {\n",
       "        text-align: right;\n",
       "    }\n",
       "</style>\n",
       "<table border=\"1\" class=\"dataframe\">\n",
       "  <thead>\n",
       "    <tr style=\"text-align: right;\">\n",
       "      <th></th>\n",
       "      <th>count</th>\n",
       "      <th>mean</th>\n",
       "      <th>std</th>\n",
       "      <th>min</th>\n",
       "      <th>25%</th>\n",
       "      <th>50%</th>\n",
       "      <th>75%</th>\n",
       "      <th>max</th>\n",
       "    </tr>\n",
       "  </thead>\n",
       "  <tbody>\n",
       "    <tr>\n",
       "      <th>fsID</th>\n",
       "      <td>8732.0</td>\n",
       "      <td>116033.493816</td>\n",
       "      <td>57991.017218</td>\n",
       "      <td>344.000000</td>\n",
       "      <td>69942.250000</td>\n",
       "      <td>118279.000000</td>\n",
       "      <td>166942.000000</td>\n",
       "      <td>209992.000000</td>\n",
       "    </tr>\n",
       "    <tr>\n",
       "      <th>start</th>\n",
       "      <td>8732.0</td>\n",
       "      <td>38.645409</td>\n",
       "      <td>74.292126</td>\n",
       "      <td>0.000000</td>\n",
       "      <td>3.000000</td>\n",
       "      <td>10.376492</td>\n",
       "      <td>35.131372</td>\n",
       "      <td>600.125356</td>\n",
       "    </tr>\n",
       "    <tr>\n",
       "      <th>end</th>\n",
       "      <td>8732.0</td>\n",
       "      <td>42.253312</td>\n",
       "      <td>74.369669</td>\n",
       "      <td>0.105962</td>\n",
       "      <td>6.839398</td>\n",
       "      <td>14.000000</td>\n",
       "      <td>38.866979</td>\n",
       "      <td>604.125356</td>\n",
       "    </tr>\n",
       "    <tr>\n",
       "      <th>salience</th>\n",
       "      <td>8732.0</td>\n",
       "      <td>1.347000</td>\n",
       "      <td>0.476043</td>\n",
       "      <td>1.000000</td>\n",
       "      <td>1.000000</td>\n",
       "      <td>1.000000</td>\n",
       "      <td>2.000000</td>\n",
       "      <td>2.000000</td>\n",
       "    </tr>\n",
       "    <tr>\n",
       "      <th>fold</th>\n",
       "      <td>8732.0</td>\n",
       "      <td>5.385937</td>\n",
       "      <td>2.846820</td>\n",
       "      <td>1.000000</td>\n",
       "      <td>3.000000</td>\n",
       "      <td>5.000000</td>\n",
       "      <td>8.000000</td>\n",
       "      <td>10.000000</td>\n",
       "    </tr>\n",
       "    <tr>\n",
       "      <th>classID</th>\n",
       "      <td>8732.0</td>\n",
       "      <td>4.592877</td>\n",
       "      <td>2.894544</td>\n",
       "      <td>0.000000</td>\n",
       "      <td>2.000000</td>\n",
       "      <td>4.000000</td>\n",
       "      <td>7.000000</td>\n",
       "      <td>9.000000</td>\n",
       "    </tr>\n",
       "  </tbody>\n",
       "</table>\n",
       "</div>"
      ],
      "text/plain": [
       "           count           mean           std         min           25%  \\\n",
       "fsID      8732.0  116033.493816  57991.017218  344.000000  69942.250000   \n",
       "start     8732.0      38.645409     74.292126    0.000000      3.000000   \n",
       "end       8732.0      42.253312     74.369669    0.105962      6.839398   \n",
       "salience  8732.0       1.347000      0.476043    1.000000      1.000000   \n",
       "fold      8732.0       5.385937      2.846820    1.000000      3.000000   \n",
       "classID   8732.0       4.592877      2.894544    0.000000      2.000000   \n",
       "\n",
       "                    50%            75%            max  \n",
       "fsID      118279.000000  166942.000000  209992.000000  \n",
       "start         10.376492      35.131372     600.125356  \n",
       "end           14.000000      38.866979     604.125356  \n",
       "salience       1.000000       2.000000       2.000000  \n",
       "fold           5.000000       8.000000      10.000000  \n",
       "classID        4.000000       7.000000       9.000000  "
      ]
     },
     "execution_count": 28,
     "metadata": {},
     "output_type": "execute_result"
    }
   ],
   "source": [
    "#Summary\n",
    "\n",
    "df.describe().transpose()"
   ]
  },
  {
   "cell_type": "code",
   "execution_count": 29,
   "id": "36cd232b",
   "metadata": {},
   "outputs": [
    {
     "data": {
      "text/plain": [
       "dog_bark            1000\n",
       "children_playing    1000\n",
       "air_conditioner     1000\n",
       "street_music        1000\n",
       "engine_idling       1000\n",
       "jackhammer          1000\n",
       "drilling            1000\n",
       "siren                929\n",
       "car_horn             429\n",
       "gun_shot             374\n",
       "Name: class, dtype: int64"
      ]
     },
     "execution_count": 29,
     "metadata": {},
     "output_type": "execute_result"
    }
   ],
   "source": [
    "df[\"class\"].value_counts()"
   ]
  },
  {
   "cell_type": "code",
   "execution_count": 30,
   "id": "c00c6cee",
   "metadata": {},
   "outputs": [
    {
     "data": {
      "image/png": "[encoded data removed]",
      "text/plain": [
       "<Figure size 576x288 with 1 Axes>"
      ]
     },
     "metadata": {
      "needs_background": "light"
     },
     "output_type": "display_data"
    }
   ],
   "source": [
    "# Visualize the target column\n",
    "\n",
    "plt.figure(figsize = (8,4))\n",
    "sns.barplot(x = df[\"class\"].value_counts().keys(),\n",
    "            y = df[\"class\"].value_counts(),\n",
    "            palette=\"magma\")\n",
    "plt.title(\"Subject based Average Subscribers\", fontsize= 16, fontweight = \"bold\")\n",
    "plt.grid(color='#95a5a6', linestyle='-.', linewidth=1, axis='y', alpha=0.7)\n",
    "plt.xlabel(\"Class Names\", weight=\"bold\", color=\"#355764\", fontsize=14, labelpad = 20)\n",
    "plt.ylabel(\"Number of the samples\", weight=\"bold\", color=\"#355764\", fontsize=14, labelpad=20)\n",
    "plt.xticks(rotation=90, fontsize=12)\n",
    "plt.yticks(rotation=90, fontsize=12)\n",
    "plt.show()"
   ]
  },
  {
   "cell_type": "code",
   "execution_count": 31,
   "id": "508475a1",
   "metadata": {},
   "outputs": [],
   "source": [
    "# Creating spectrogram file path (fold + file name)\n",
    "\n",
    "df[\"specs_path\"] = '\\\\' + df['classID'].astype(str) + '\\\\' + df['slice_file_name'].astype(str).str.strip('.wav') + '.png'"
   ]
  },
  {
   "cell_type": "code",
   "execution_count": 32,
   "id": "c252a957",
   "metadata": {},
   "outputs": [
    {
     "data": {
      "text/html": [
       "<div>\n",
       "<style scoped>\n",
       "    .dataframe tbody tr th:only-of-type {\n",
       "        vertical-align: middle;\n",
       "    }\n",
       "\n",
       "    .dataframe tbody tr th {\n",
       "        vertical-align: top;\n",
       "    }\n",
       "\n",
       "    .dataframe thead th {\n",
       "        text-align: right;\n",
       "    }\n",
       "</style>\n",
       "<table border=\"1\" class=\"dataframe\">\n",
       "  <thead>\n",
       "    <tr style=\"text-align: right;\">\n",
       "      <th></th>\n",
       "      <th>specs_path</th>\n",
       "      <th>classID</th>\n",
       "    </tr>\n",
       "  </thead>\n",
       "  <tbody>\n",
       "    <tr>\n",
       "      <th>0</th>\n",
       "      <td>\\3\\100032-3-0-0.png</td>\n",
       "      <td>3</td>\n",
       "    </tr>\n",
       "    <tr>\n",
       "      <th>1</th>\n",
       "      <td>\\2\\100263-2-0-117.png</td>\n",
       "      <td>2</td>\n",
       "    </tr>\n",
       "    <tr>\n",
       "      <th>2</th>\n",
       "      <td>\\2\\100263-2-0-121.png</td>\n",
       "      <td>2</td>\n",
       "    </tr>\n",
       "    <tr>\n",
       "      <th>3</th>\n",
       "      <td>\\2\\100263-2-0-126.png</td>\n",
       "      <td>2</td>\n",
       "    </tr>\n",
       "    <tr>\n",
       "      <th>4</th>\n",
       "      <td>\\2\\100263-2-0-137.png</td>\n",
       "      <td>2</td>\n",
       "    </tr>\n",
       "  </tbody>\n",
       "</table>\n",
       "</div>"
      ],
      "text/plain": [
       "              specs_path  classID\n",
       "0    \\3\\100032-3-0-0.png        3\n",
       "1  \\2\\100263-2-0-117.png        2\n",
       "2  \\2\\100263-2-0-121.png        2\n",
       "3  \\2\\100263-2-0-126.png        2\n",
       "4  \\2\\100263-2-0-137.png        2"
      ]
     },
     "execution_count": 32,
     "metadata": {},
     "output_type": "execute_result"
    }
   ],
   "source": [
    "# Update the dataset \n",
    "\n",
    "df = df[[\"specs_path\",\"classID\"]]\n",
    "df.head()"
   ]
  },
  {
   "cell_type": "markdown",
   "id": "613286d9",
   "metadata": {},
   "source": [
    "##### 2.1 Grayscale and Resize"
   ]
  },
  {
   "cell_type": "code",
   "execution_count": 33,
   "id": "ba46fea7",
   "metadata": {},
   "outputs": [],
   "source": [
    "# The funtion rgb to grayscale\n",
    "\n",
    "def rgb_to_grayscale(loc, path):\n",
    "    \n",
    "    # grayscale\n",
    "    gray_images = cv2.imread(loc+path, 0) \n",
    "    \n",
    "    # resize\n",
    "    images = cv2.resize(gray_images, (64,64)) \n",
    "        \n",
    "    return images"
   ]
  },
  {
   "cell_type": "code",
   "execution_count": 34,
   "id": "0c298360",
   "metadata": {},
   "outputs": [],
   "source": [
    "# Loop to save all specs grayscale \n",
    "\n",
    "for spec in df[\"specs_path\"]:\n",
    "    loc = r'C:\\Users\\pc\\Desktop\\spectrograms' # location\n",
    "    path = spec # image path\n",
    "    gray_pic = rgb_to_grayscale(loc, path)\n",
    "    cv2.imwrite(loc+path, gray_pic)"
   ]
  },
  {
   "cell_type": "markdown",
   "id": "a1d2f9d8",
   "metadata": {},
   "source": [
    "##### 2.2 Normalization "
   ]
  },
  {
   "cell_type": "code",
   "execution_count": 35,
   "id": "ff447231",
   "metadata": {},
   "outputs": [],
   "source": [
    "# Creating a list [image,label]\n",
    "\n",
    "img_arr = []\n",
    "\n",
    "for i in range(len(df[\"specs_path\"])):\n",
    "    loc = r'C:\\Users\\pc\\Desktop\\spectrograms' # location\n",
    "    path = df[\"specs_path\"][i] # image path\n",
    "    gray_imgs = cv2.imread(loc+path, 0)\n",
    "    img_arr.append([gray_imgs, df[\"classID\"][i]])"
   ]
  },
  {
   "cell_type": "code",
   "execution_count": 36,
   "id": "737d047c",
   "metadata": {},
   "outputs": [],
   "source": [
    "# Shuffle the data\n",
    "\n",
    "random.shuffle(img_arr)"
   ]
  },
  {
   "cell_type": "code",
   "execution_count": 37,
   "id": "0eeefc35",
   "metadata": {},
   "outputs": [],
   "source": [
    "# Creating a dataframe \n",
    "\n",
    "img_df = pd.DataFrame(img_arr, columns=[\"images\",\"classID\"])"
   ]
  },
  {
   "cell_type": "code",
   "execution_count": 38,
   "id": "03a8ea12",
   "metadata": {},
   "outputs": [
    {
     "data": {
      "text/html": [
       "<div>\n",
       "<style scoped>\n",
       "    .dataframe tbody tr th:only-of-type {\n",
       "        vertical-align: middle;\n",
       "    }\n",
       "\n",
       "    .dataframe tbody tr th {\n",
       "        vertical-align: top;\n",
       "    }\n",
       "\n",
       "    .dataframe thead th {\n",
       "        text-align: right;\n",
       "    }\n",
       "</style>\n",
       "<table border=\"1\" class=\"dataframe\">\n",
       "  <thead>\n",
       "    <tr style=\"text-align: right;\">\n",
       "      <th></th>\n",
       "      <th>images</th>\n",
       "      <th>classID</th>\n",
       "    </tr>\n",
       "  </thead>\n",
       "  <tbody>\n",
       "    <tr>\n",
       "      <th>0</th>\n",
       "      <td>[[249, 0, 0, 0, 0, 0, 0, 0, 0, 0, 0, 0, 0, 0, ...</td>\n",
       "      <td>3</td>\n",
       "    </tr>\n",
       "    <tr>\n",
       "      <th>1</th>\n",
       "      <td>[[249, 0, 0, 0, 0, 0, 0, 0, 0, 0, 0, 0, 0, 0, ...</td>\n",
       "      <td>0</td>\n",
       "    </tr>\n",
       "    <tr>\n",
       "      <th>2</th>\n",
       "      <td>[[249, 0, 0, 0, 0, 0, 0, 0, 0, 0, 0, 0, 0, 0, ...</td>\n",
       "      <td>4</td>\n",
       "    </tr>\n",
       "    <tr>\n",
       "      <th>3</th>\n",
       "      <td>[[249, 0, 0, 0, 0, 0, 0, 0, 0, 0, 0, 0, 0, 0, ...</td>\n",
       "      <td>5</td>\n",
       "    </tr>\n",
       "    <tr>\n",
       "      <th>4</th>\n",
       "      <td>[[249, 0, 0, 0, 0, 0, 0, 0, 0, 0, 0, 0, 0, 0, ...</td>\n",
       "      <td>7</td>\n",
       "    </tr>\n",
       "  </tbody>\n",
       "</table>\n",
       "</div>"
      ],
      "text/plain": [
       "                                              images  classID\n",
       "0  [[249, 0, 0, 0, 0, 0, 0, 0, 0, 0, 0, 0, 0, 0, ...        3\n",
       "1  [[249, 0, 0, 0, 0, 0, 0, 0, 0, 0, 0, 0, 0, 0, ...        0\n",
       "2  [[249, 0, 0, 0, 0, 0, 0, 0, 0, 0, 0, 0, 0, 0, ...        4\n",
       "3  [[249, 0, 0, 0, 0, 0, 0, 0, 0, 0, 0, 0, 0, 0, ...        5\n",
       "4  [[249, 0, 0, 0, 0, 0, 0, 0, 0, 0, 0, 0, 0, 0, ...        7"
      ]
     },
     "execution_count": 38,
     "metadata": {},
     "output_type": "execute_result"
    }
   ],
   "source": [
    "img_df.head()"
   ]
  },
  {
   "cell_type": "code",
   "execution_count": 39,
   "id": "71641d48",
   "metadata": {},
   "outputs": [
    {
     "data": {
      "text/plain": [
       "(64, 64)"
      ]
     },
     "execution_count": 39,
     "metadata": {},
     "output_type": "execute_result"
    }
   ],
   "source": [
    "# Shape of the sample image\n",
    "\n",
    "img_df[\"images\"][0].shape"
   ]
  },
  {
   "cell_type": "code",
   "execution_count": 40,
   "id": "6ef63366",
   "metadata": {},
   "outputs": [],
   "source": [
    "# Creating the X, y\n",
    "\n",
    "X = np.array(img_df[\"images\"].tolist())\n",
    "y = np.array(img_df[\"classID\"].tolist())"
   ]
  },
  {
   "cell_type": "code",
   "execution_count": 41,
   "id": "d0246f20",
   "metadata": {},
   "outputs": [
    {
     "data": {
      "text/plain": [
       "(8732, 64, 64)"
      ]
     },
     "execution_count": 41,
     "metadata": {},
     "output_type": "execute_result"
    }
   ],
   "source": [
    "# Shape of the X (Features)\n",
    "\n",
    "X.shape"
   ]
  },
  {
   "cell_type": "code",
   "execution_count": 42,
   "id": "815bdb75",
   "metadata": {},
   "outputs": [
    {
     "data": {
      "text/plain": [
       "(8732,)"
      ]
     },
     "execution_count": 42,
     "metadata": {},
     "output_type": "execute_result"
    }
   ],
   "source": [
    "# Shape of the y (Target)\n",
    "\n",
    "y.shape"
   ]
  },
  {
   "cell_type": "code",
   "execution_count": 43,
   "id": "e68ead51",
   "metadata": {},
   "outputs": [],
   "source": [
    "# Normalization\n",
    "# we can divide X by 255\n",
    "\n",
    "X = X/255"
   ]
  },
  {
   "cell_type": "code",
   "execution_count": 44,
   "id": "53bdfcd3",
   "metadata": {},
   "outputs": [
    {
     "data": {
      "text/plain": [
       "array([[0.97647059, 0.        , 0.        , ..., 0.        , 0.        ,\n",
       "        0.        ],\n",
       "       [0.97647059, 0.        , 0.        , ..., 0.        , 0.        ,\n",
       "        0.        ],\n",
       "       [0.97647059, 0.        , 0.        , ..., 0.        , 0.        ,\n",
       "        0.        ],\n",
       "       ...,\n",
       "       [0.97647059, 0.        , 0.        , ..., 0.        , 0.        ,\n",
       "        0.        ],\n",
       "       [0.97647059, 0.        , 0.        , ..., 0.01568627, 0.        ,\n",
       "        0.        ],\n",
       "       [0.99607843, 0.97647059, 0.97647059, ..., 0.97647059, 0.97647059,\n",
       "        0.97647059]])"
      ]
     },
     "execution_count": 44,
     "metadata": {},
     "output_type": "execute_result"
    }
   ],
   "source": [
    "X[0] # Now each values scaled between 0 and 1."
   ]
  },
  {
   "cell_type": "markdown",
   "id": "4d0198cc",
   "metadata": {},
   "source": [
    "##### 2.3 Dataset Splitting"
   ]
  },
  {
   "cell_type": "code",
   "execution_count": 45,
   "id": "7d42950a",
   "metadata": {},
   "outputs": [
    {
     "name": "stdout",
     "output_type": "stream",
     "text": [
      "Length of X:  8732\n",
      "Length of y:  8732\n"
     ]
    }
   ],
   "source": [
    "print(\"Length of X: \",len(X))\n",
    "print(\"Length of y: \",len(y))"
   ]
  },
  {
   "cell_type": "code",
   "execution_count": 46,
   "id": "5a2c0973",
   "metadata": {},
   "outputs": [],
   "source": [
    "# Roundly %80 train sets, %10 validation sets, %10 test sets\n",
    "\n",
    "# Train datasets\n",
    "X_train = X[:6980]\n",
    "y_train = y[:6980]\n",
    "\n",
    "# Validation datasets\n",
    "X_val = X[6980:7856]\n",
    "y_val = y[6980:7856]\n",
    "\n",
    "# Test datasets\n",
    "X_test = X[7856:8732]\n",
    "y_test = y[7856:8732]"
   ]
  },
  {
   "cell_type": "code",
   "execution_count": 47,
   "id": "8ac19210",
   "metadata": {},
   "outputs": [
    {
     "name": "stdout",
     "output_type": "stream",
     "text": [
      "X_train: 6980\n",
      "y_train: 6980\n",
      "X_val: 876\n",
      "y_val: 876\n",
      "X_test: 876\n",
      "y_test: 876\n"
     ]
    }
   ],
   "source": [
    "# The number of samples\n",
    "\n",
    "print(f\"X_train: {len(X_train)}\")\n",
    "print(f\"y_train: {len(y_train)}\")\n",
    "print(f\"X_val: {len(X_val)}\")\n",
    "print(f\"y_val: {len(y_val)}\")\n",
    "print(f\"X_test: {len(X_test)}\")\n",
    "print(f\"y_test: {len(y_test)}\")"
   ]
  },
  {
   "cell_type": "markdown",
   "id": "36056c14",
   "metadata": {},
   "source": [
    "##### 2.4 Save Datasets to Computer"
   ]
  },
  {
   "cell_type": "code",
   "execution_count": 48,
   "id": "cd79fdc6",
   "metadata": {},
   "outputs": [],
   "source": [
    "# Pickle library\n",
    "\n",
    "import pickle"
   ]
  },
  {
   "cell_type": "code",
   "execution_count": 49,
   "id": "e06a5560",
   "metadata": {},
   "outputs": [],
   "source": [
    "# Save the datasets to computer\n",
    "\n",
    "datasets = [X_train, y_train, X_val, y_val, X_test, y_test]\n",
    "dataset_names = ['X_train', 'y_train', 'X_val', 'y_val', 'X_test', 'y_test']\n",
    "\n",
    "for i in range(len(datasets)):\n",
    "    with open(r'C:\\Users\\pc\\Desktop\\datasets' + '\\\\' + dataset_names[i] + '.pkl', 'wb') as f:\n",
    "        pickle.dump(datasets[i], f)"
   ]
  }
 ],
 "metadata": {
  "kernelspec": {
   "display_name": "Python 3 (ipykernel)",
   "language": "python",
   "name": "python3"
  },
  "language_info": {
   "codemirror_mode": {
    "name": "ipython",
    "version": 3
   },
   "file_extension": ".py",
   "mimetype": "text/x-python",
   "name": "python",
   "nbconvert_exporter": "python",
   "pygments_lexer": "ipython3",
   "version": "3.9.12"
  }
 },
 "nbformat": 4,
 "nbformat_minor": 5
}
